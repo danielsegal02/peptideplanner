{
 "cells": [
  {
   "cell_type": "code",
   "execution_count": 1,
   "metadata": {},
   "outputs": [
    {
     "name": "stderr",
     "output_type": "stream",
     "text": [
      "Failed to find the pandas get_adjustment() function to patch\n",
      "Failed to patch pandas - PandasTools will have limited functionality\n"
     ]
    },
    {
     "data": {
      "application/vnd.jupyter.widget-view+json": {
       "model_id": "6b2671b42c1b435db045fc0befcb870a",
       "version_major": 2,
       "version_minor": 0
      },
      "text/plain": []
     },
     "metadata": {},
     "output_type": "display_data"
    }
   ],
   "source": [
    "from pyPept.sequence import Sequence\n",
    "from pyPept.sequence import correct_pdb_atoms\n",
    "from pyPept.molecule import Molecule\n",
    "from pyPept.converter import Converter\n",
    "from pyPept.conformer import Conformer\n",
    "from pyPept.conformer import SecStructPredictor\n",
    "\n",
    "from rdkit import Chem\n",
    "from rdkit.Chem import Draw\n",
    "\n",
    "#NGLview\n",
    "\n",
    "import nglview as ng\n",
    "\n",
    "import os \n",
    "import time "
   ]
  },
  {
   "cell_type": "code",
   "execution_count": 2,
   "metadata": {},
   "outputs": [
    {
     "name": "stdin",
     "output_type": "stream",
     "text": [
      "Enter Amino Acid Sequence ARLLRRAGG\n"
     ]
    },
    {
     "name": "stderr",
     "output_type": "stream",
     "text": [
      "Failed to patch pandas - unable to change molecule rendering\n"
     ]
    },
    {
     "name": "stdout",
     "output_type": "stream",
     "text": [
      "A-R-L-L-R-R-A-G-G\n"
     ]
    },
    {
     "name": "stderr",
     "output_type": "stream",
     "text": [
      "C:\\Users\\Daniel\\anaconda3\\envs\\pypept\\lib\\site-packages\\pyPept\\sequence.py:536: FutureWarning: ChainedAssignmentError: behaviour will change in pandas 3.0!\n",
      "You are setting values through chained assignment. Currently this works in certain cases, but when using Copy-on-Write (which will become the default behaviour in pandas 3.0) this will never work to update the original DataFrame or Series, because the intermediate object on which we are setting values will behave as a copy.\n",
      "A typical example is when you are setting values in a column of a DataFrame, like:\n",
      "\n",
      "df[\"col\"][row_indexer] = value\n",
      "\n",
      "Use `df.loc[row_indexer, \"col\"] = values` instead, to perform the assignment in a single step and ensure this keeps updating the original `df`.\n",
      "\n",
      "See the caveats in the documentation: https://pandas.pydata.org/pandas-docs/stable/user_guide/indexing.html#returning-a-view-versus-a-copy\n",
      "\n",
      "  df_group[group][idx] = updated_change\n",
      "Failed to patch pandas - unable to change molecule rendering\n",
      "Failed to patch pandas - unable to change molecule rendering\n"
     ]
    },
    {
     "name": "stdout",
     "output_type": "stream",
     "text": [
      "The SMILES of the peptide is: CC(C)C[C@H](NC(=O)[C@H](CCCNC(=N)N)NC(=O)[C@H](C)N)C(=O)N[C@@H](CC(C)C)C(=O)N[C@@H](CCCNC(=N)N)C(=O)N[C@@H](CCCNC(=N)N)C(=O)N[C@@H](C)C(=O)NCC(=O)NCC(=O)O\n",
      "Predicted Secondary Structure: -HHHHHHH- for main chain: ARLLRRAGG\n"
     ]
    }
   ],
   "source": [
    "\n",
    "aaseq = input(\"Enter Amino Acid Sequence\")\n",
    "biln = \"-\".join(aaseq)\n",
    "\n",
    "print(biln)\n",
    "\n",
    "seq = Sequence(biln)\n",
    "# Correct atom names in the sequence object\n",
    "seq = correct_pdb_atoms(seq)\n",
    "\n",
    "# Loop wit the included monomers\n",
    "mm_list = seq.s_monomers\n",
    "for i, monomer in enumerate(mm_list):\n",
    "    mon = monomer['m_romol']\n",
    "\n",
    "# Generate the RDKit object\n",
    "mol = Molecule(seq, depiction='rdkit')\n",
    "romol = mol.get_molecule(fmt='ROMol')\n",
    "print(\"The SMILES of the peptide is: {}\".format(Chem.MolToSmiles(romol)))\n",
    "Draw.MolToFile(romol, 'peptidemol.png', size=(1200, 1200))\n",
    "\n",
    "# Create the peptide conformer with corrected atom names and secondary structure\n",
    "# Obtain peptide main chain to predict the secondary structure\n",
    "fasta = Conformer.get_peptide(biln)\n",
    "secstruct = SecStructPredictor.predict_active_ss(fasta)\n",
    "# Generate the conformer\n",
    "romol = Conformer.generate_conformer(romol, secstruct, generate_pdb=True)\n"
   ]
  },
  {
   "cell_type": "code",
   "execution_count": 3,
   "metadata": {},
   "outputs": [
    {
     "data": {
      "application/vnd.jupyter.widget-view+json": {
       "model_id": "219183ca7c9d4f8abd1bd4dd89862b38",
       "version_major": 2,
       "version_minor": 0
      },
      "text/plain": [
       "NGLWidget()"
      ]
     },
     "metadata": {},
     "output_type": "display_data"
    }
   ],
   "source": [
    "\n",
    "view = ng.show_structure_file(\"structure.pdb\")\n",
    "view.add_representation('cartoon', selection='protein')\n",
    "view"
   ]
  },
  {
   "cell_type": "code",
   "execution_count": 4,
   "metadata": {},
   "outputs": [],
   "source": [
    "def generate_images(v=view):\n",
    "    v.clear()\n",
    "    v.add_cartoon(color='red')\n",
    "    im0 = v.render_image()\n",
    "    v.clear()\n",
    "    v.add_cartoon(color='blue')\n",
    "    im1 = v.render_image()\n",
    "    for im in [im0, im1]:\n",
    "        while not im.value:\n",
    "            time.sleep(0.1)\n",
    "    for n, im in zip('ab', [im0, im1]):\n",
    "        with open(f'figure_{n}.png', 'wb') as fh:\n",
    "            fh.write(im.value)\n",
    "\n",
    "import threading\n",
    "thread = threading.Thread(\n",
    "    target=generate_images,\n",
    ")\n",
    "thread.daemon = True\n",
    "thread.start()"
   ]
  },
  {
   "cell_type": "code",
   "execution_count": null,
   "metadata": {},
   "outputs": [],
   "source": []
  },
  {
   "cell_type": "code",
   "execution_count": null,
   "metadata": {},
   "outputs": [],
   "source": []
  }
 ],
 "metadata": {
  "kernelspec": {
   "display_name": "Python 3 (ipykernel)",
   "language": "python",
   "name": "python3"
  },
  "language_info": {
   "codemirror_mode": {
    "name": "ipython",
    "version": 3
   },
   "file_extension": ".py",
   "mimetype": "text/x-python",
   "name": "python",
   "nbconvert_exporter": "python",
   "pygments_lexer": "ipython3",
   "version": "3.9.19"
  }
 },
 "nbformat": 4,
 "nbformat_minor": 4
}
